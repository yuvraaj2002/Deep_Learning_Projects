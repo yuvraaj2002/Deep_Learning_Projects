{
 "cells": [
  {
   "cell_type": "markdown",
   "id": "4c893520-533f-4c9d-a521-3bef7445e506",
   "metadata": {},
   "source": [
    "### Importing the dependencies"
   ]
  },
  {
   "cell_type": "code",
   "execution_count": 19,
   "id": "4b70ac40-fa8e-465e-9eb9-e65b856da327",
   "metadata": {},
   "outputs": [
    {
     "name": "stdout",
     "output_type": "stream",
     "text": [
      "Everything imported successfully\n"
     ]
    }
   ],
   "source": [
    "import pandas as pd\n",
    "import numpy as np\n",
    "import seaborn as sns\n",
    "import matplotlib.pyplot as plt\n",
    "import missingno as msno\n",
    "from sklearn.model_selection import train_test_split\n",
    "import tensorflow as tf\n",
    "\n",
    "print(\"Everything imported successfully\")"
   ]
  },
  {
   "cell_type": "markdown",
   "id": "2997b336-c248-4d0a-a16f-84361f5b022d",
   "metadata": {},
   "source": [
    "The `cp1252` encoding is a Windows-specific encoding that is often used for files that contain Western European characters."
   ]
  },
  {
   "cell_type": "code",
   "execution_count": 2,
   "id": "48b15b50-37ea-48c5-9ce0-913212901a6d",
   "metadata": {},
   "outputs": [],
   "source": [
    "# Loading the dataset\n",
    "ISIS_df = pd.read_csv('Datasets/ISIS realted content/ISIS.csv', encoding='cp1252')\n",
    "Twitter_df = pd.read_csv('Datasets/Normal Texts/Twitter_Data.csv')\n",
    "Movie_df = pd.read_csv('Datasets/Normal Texts/Moive_data.csv')"
   ]
  },
  {
   "cell_type": "markdown",
   "id": "324a126e-a62b-4550-a82e-4b00133befcc",
   "metadata": {},
   "source": [
    "### Exploratory data analysis and data processing"
   ]
  },
  {
   "cell_type": "code",
   "execution_count": 3,
   "id": "2f12d33e-e7a5-454f-9edf-75a6d99ca3aa",
   "metadata": {},
   "outputs": [
    {
     "name": "stdout",
     "output_type": "stream",
     "text": [
      "Shape of ISIS dataset :  (2685, 8)\n",
      "Shape of Twitter dataset :  (162980, 2)\n",
      "Shape of Movie dataset :  (50000, 2)\n"
     ]
    }
   ],
   "source": [
    "# Shape of datdaset\n",
    "print(\"Shape of ISIS dataset : \",ISIS_df.shape)\n",
    "print(\"Shape of Twitter dataset : \",Twitter_df.shape)\n",
    "print(\"Shape of Movie dataset : \",Movie_df.shape)"
   ]
  },
  {
   "cell_type": "markdown",
   "id": "8b95b955-98b1-4f68-ac41-73720c514d53",
   "metadata": {},
   "source": [
    "Let's now see any 3 random rows of each of the dataframe to get an idea of what are the features present in each of the dataframe."
   ]
  },
  {
   "cell_type": "code",
   "execution_count": 4,
   "id": "d74f2feb-77d5-4766-a0ac-872848655a35",
   "metadata": {},
   "outputs": [
    {
     "data": {
      "text/html": [
       "<div>\n",
       "<style scoped>\n",
       "    .dataframe tbody tr th:only-of-type {\n",
       "        vertical-align: middle;\n",
       "    }\n",
       "\n",
       "    .dataframe tbody tr th {\n",
       "        vertical-align: top;\n",
       "    }\n",
       "\n",
       "    .dataframe thead th {\n",
       "        text-align: right;\n",
       "    }\n",
       "</style>\n",
       "<table border=\"1\" class=\"dataframe\">\n",
       "  <thead>\n",
       "    <tr style=\"text-align: right;\">\n",
       "      <th></th>\n",
       "      <th>Magazine</th>\n",
       "      <th>Issue</th>\n",
       "      <th>Date</th>\n",
       "      <th>Type</th>\n",
       "      <th>Source</th>\n",
       "      <th>Quote</th>\n",
       "      <th>Purpose</th>\n",
       "      <th>Article Name</th>\n",
       "    </tr>\n",
       "  </thead>\n",
       "  <tbody>\n",
       "    <tr>\n",
       "      <th>485</th>\n",
       "      <td>Dabiq</td>\n",
       "      <td>8.0</td>\n",
       "      <td>Mar-15</td>\n",
       "      <td>Qur'an</td>\n",
       "      <td>Muhammad 10</td>\n",
       "      <td>{Have they not traveled through the land and s...</td>\n",
       "      <td>Support</td>\n",
       "      <td>Erasing the Legacy of a Ruined Nation</td>\n",
       "    </tr>\n",
       "    <tr>\n",
       "      <th>1438</th>\n",
       "      <td>Dabiq</td>\n",
       "      <td>15.0</td>\n",
       "      <td>Jul-16</td>\n",
       "      <td>Bible</td>\n",
       "      <td>Matthew 15:24</td>\n",
       "      <td>“He [Jesus] answered, ‘I was sent only to the ...</td>\n",
       "      <td>NaN</td>\n",
       "      <td>Break the Cross</td>\n",
       "    </tr>\n",
       "    <tr>\n",
       "      <th>1684</th>\n",
       "      <td>Rumiyah</td>\n",
       "      <td>5.0</td>\n",
       "      <td>Jan-17</td>\n",
       "      <td>Hadith Commentary</td>\n",
       "      <td>Ibn Hajar al-Asqalani, \"Fath ul-Bari\"</td>\n",
       "      <td>Nasihah for His Book is learning it, teaching ...</td>\n",
       "      <td>NaN</td>\n",
       "      <td>Religion is Nasihah Being Sincere</td>\n",
       "    </tr>\n",
       "  </tbody>\n",
       "</table>\n",
       "</div>"
      ],
      "text/plain": [
       "     Magazine  Issue    Date               Type  \\\n",
       "485     Dabiq    8.0  Mar-15             Qur'an   \n",
       "1438    Dabiq   15.0  Jul-16              Bible   \n",
       "1684  Rumiyah    5.0  Jan-17  Hadith Commentary   \n",
       "\n",
       "                                     Source  \\\n",
       "485                             Muhammad 10   \n",
       "1438                          Matthew 15:24   \n",
       "1684  Ibn Hajar al-Asqalani, \"Fath ul-Bari\"   \n",
       "\n",
       "                                                  Quote  Purpose  \\\n",
       "485   {Have they not traveled through the land and s...  Support   \n",
       "1438  “He [Jesus] answered, ‘I was sent only to the ...      NaN   \n",
       "1684  Nasihah for His Book is learning it, teaching ...      NaN   \n",
       "\n",
       "                               Article Name  \n",
       "485   Erasing the Legacy of a Ruined Nation  \n",
       "1438                        Break the Cross  \n",
       "1684      Religion is Nasihah Being Sincere  "
      ]
     },
     "execution_count": 4,
     "metadata": {},
     "output_type": "execute_result"
    }
   ],
   "source": [
    "# Random 3 rows of dataframe\n",
    "ISIS_df.sample(3)"
   ]
  },
  {
   "cell_type": "code",
   "execution_count": 5,
   "id": "58d63309-d611-44e4-8dd8-a05bfc404406",
   "metadata": {},
   "outputs": [
    {
     "data": {
      "text/html": [
       "<div>\n",
       "<style scoped>\n",
       "    .dataframe tbody tr th:only-of-type {\n",
       "        vertical-align: middle;\n",
       "    }\n",
       "\n",
       "    .dataframe tbody tr th {\n",
       "        vertical-align: top;\n",
       "    }\n",
       "\n",
       "    .dataframe thead th {\n",
       "        text-align: right;\n",
       "    }\n",
       "</style>\n",
       "<table border=\"1\" class=\"dataframe\">\n",
       "  <thead>\n",
       "    <tr style=\"text-align: right;\">\n",
       "      <th></th>\n",
       "      <th>clean_text</th>\n",
       "      <th>category</th>\n",
       "    </tr>\n",
       "  </thead>\n",
       "  <tbody>\n",
       "    <tr>\n",
       "      <th>74361</th>\n",
       "      <td>when modi announced beforehand and gives the s...</td>\n",
       "      <td>1.0</td>\n",
       "    </tr>\n",
       "    <tr>\n",
       "      <th>132176</th>\n",
       "      <td>this unemployment will decrease when people wi...</td>\n",
       "      <td>1.0</td>\n",
       "    </tr>\n",
       "    <tr>\n",
       "      <th>51165</th>\n",
       "      <td>great achievement narendra modi says india sho...</td>\n",
       "      <td>1.0</td>\n",
       "    </tr>\n",
       "  </tbody>\n",
       "</table>\n",
       "</div>"
      ],
      "text/plain": [
       "                                               clean_text  category\n",
       "74361   when modi announced beforehand and gives the s...       1.0\n",
       "132176  this unemployment will decrease when people wi...       1.0\n",
       "51165   great achievement narendra modi says india sho...       1.0"
      ]
     },
     "execution_count": 5,
     "metadata": {},
     "output_type": "execute_result"
    }
   ],
   "source": [
    "Twitter_df.sample(3)"
   ]
  },
  {
   "cell_type": "code",
   "execution_count": 6,
   "id": "930fc176-7a40-4e76-af6a-480425cc3d87",
   "metadata": {},
   "outputs": [
    {
     "data": {
      "text/html": [
       "<div>\n",
       "<style scoped>\n",
       "    .dataframe tbody tr th:only-of-type {\n",
       "        vertical-align: middle;\n",
       "    }\n",
       "\n",
       "    .dataframe tbody tr th {\n",
       "        vertical-align: top;\n",
       "    }\n",
       "\n",
       "    .dataframe thead th {\n",
       "        text-align: right;\n",
       "    }\n",
       "</style>\n",
       "<table border=\"1\" class=\"dataframe\">\n",
       "  <thead>\n",
       "    <tr style=\"text-align: right;\">\n",
       "      <th></th>\n",
       "      <th>review</th>\n",
       "      <th>sentiment</th>\n",
       "    </tr>\n",
       "  </thead>\n",
       "  <tbody>\n",
       "    <tr>\n",
       "      <th>991</th>\n",
       "      <td>I dunno sometimes...you try and try and try to...</td>\n",
       "      <td>negative</td>\n",
       "    </tr>\n",
       "    <tr>\n",
       "      <th>6528</th>\n",
       "      <td>This film is a knockout, Fires on the plain re...</td>\n",
       "      <td>positive</td>\n",
       "    </tr>\n",
       "    <tr>\n",
       "      <th>2873</th>\n",
       "      <td>Daddy's girls Florence Lawrence and Dorothy We...</td>\n",
       "      <td>negative</td>\n",
       "    </tr>\n",
       "  </tbody>\n",
       "</table>\n",
       "</div>"
      ],
      "text/plain": [
       "                                                 review sentiment\n",
       "991   I dunno sometimes...you try and try and try to...  negative\n",
       "6528  This film is a knockout, Fires on the plain re...  positive\n",
       "2873  Daddy's girls Florence Lawrence and Dorothy We...  negative"
      ]
     },
     "execution_count": 6,
     "metadata": {},
     "output_type": "execute_result"
    }
   ],
   "source": [
    "Movie_df.sample(3)"
   ]
  },
  {
   "cell_type": "markdown",
   "id": "993097d5-4fe0-49ac-8308-5b334fd284a9",
   "metadata": {},
   "source": [
    "Now since we have got the basic understanding what are the feaures presenet in our datasets, our next step would be to remove unnecessary features from the dataframes and combine all the dataframes to make 1 big dataframe containing 2 features (Initally) Text and label."
   ]
  },
  {
   "cell_type": "code",
   "execution_count": 7,
   "id": "5e40ec9f-041d-4a32-b6fb-55cf2959ecb8",
   "metadata": {},
   "outputs": [],
   "source": [
    "# Dropping unnecessary features from ISIS related text dataset\n",
    "ISIS_df.drop(['Purpose','Magazine','Issue','Date','Type'],axis=1,inplace=True)\n",
    "Twitter_df.drop(['category'],axis=1,inplace=True)\n",
    "Movie_df.drop(['sentiment'],axis=1,inplace=True)"
   ]
  },
  {
   "cell_type": "code",
   "execution_count": 8,
   "id": "7696fde8-ef36-4f7a-ad73-efba9eb1aa80",
   "metadata": {},
   "outputs": [
    {
     "data": {
      "image/png": "[encoded data removed]",
      "text/plain": [
       "<Figure size 1000x200 with 3 Axes>"
      ]
     },
     "metadata": {},
     "output_type": "display_data"
    }
   ],
   "source": [
    "# Let's check if there are any null values\n",
    "msno.bar(ISIS_df, figsize=(10,2), color=\"dodgerblue\", sort=\"ascending\", fontsize=10)\n",
    "plt.show()"
   ]
  },
  {
   "cell_type": "code",
   "execution_count": 9,
   "id": "b048665a-5c19-4c90-97de-184b496e48f9",
   "metadata": {},
   "outputs": [
    {
     "name": "stdout",
     "output_type": "stream",
     "text": [
      "Movie dataframe missing values : review    0\n",
      "dtype: int64\n",
      "Twitter dataframe missing values : clean_text    4\n",
      "dtype: int64\n"
     ]
    }
   ],
   "source": [
    "print(\"Movie dataframe missing values :\",Movie_df.isnull().sum())\n",
    "print(\"Twitter dataframe missing values :\",Twitter_df.isnull().sum())"
   ]
  },
  {
   "cell_type": "code",
   "execution_count": 10,
   "id": "bbeade13-9fc2-45b9-b21a-9a485d7fed15",
   "metadata": {},
   "outputs": [],
   "source": [
    "# Dropping missing values\n",
    "Movie_df.dropna(inplace=True)\n",
    "Twitter_df.dropna(inplace=True)\n",
    "ISIS_df.dropna(inplace=True)"
   ]
  },
  {
   "cell_type": "code",
   "execution_count": 11,
   "id": "cab603bc-caed-4339-86d9-d580b12ebbef",
   "metadata": {},
   "outputs": [],
   "source": [
    "def combine_features(row):\n",
    "  return ' '.join([row['Source'], row['Quote'], row['Article Name']])\n",
    "\n",
    "ISIS_df['text'] = ISIS_df.apply(combine_features, axis=1)\n",
    "ISIS_df.drop(['Source','Quote','Article Name'],axis=1,inplace=True)"
   ]
  },
  {
   "cell_type": "code",
   "execution_count": 12,
   "id": "a0d47f27-3245-49ee-a85c-252b3ffae5b0",
   "metadata": {},
   "outputs": [],
   "source": [
    "# Lets's rename features of Twitter and Movie dataframe to text and label \n",
    "new_col_name_movie = {'review': 'text'}\n",
    "Movie_df.rename(columns=new_col_name_movie, inplace=True)\n",
    "\n",
    "new_col_name_twitter = {'clean_text': 'text'}\n",
    "Twitter_df.rename(columns=new_col_name_twitter, inplace=True)\n",
    "\n",
    "ISIS_df['label'] = 1\n",
    "Movie_df['label'] = 0\n",
    "Twitter_df['label'] = 0"
   ]
  },
  {
   "cell_type": "code",
   "execution_count": 13,
   "id": "795ae832-12ff-48dd-9d65-c36404f39859",
   "metadata": {},
   "outputs": [],
   "source": [
    "# Let's select random 1350 rows from both movie and twitter dataframe\n",
    "Movie_df = Movie_df.sample(1350)\n",
    "Twitter_df = Twitter_df.sample(1350)\n",
    "\n",
    "# Let's finally combine the dataframes \n",
    "df = pd.concat([ISIS_df,Movie_df,Twitter_df],axis=0)\n",
    "df.reset_index(inplace=True,drop=True)"
   ]
  },
  {
   "cell_type": "code",
   "execution_count": 15,
   "id": "8f8b35c9-ec55-47a1-9e81-b04963a797e7",
   "metadata": {},
   "outputs": [
    {
     "data": {
      "image/png": "[encoded data removed]",
      "text/plain": [
       "<Figure size 300x300 with 1 Axes>"
      ]
     },
     "metadata": {},
     "output_type": "display_data"
    }
   ],
   "source": [
    "fig, ax = plt.subplots(figsize=(3, 3))\n",
    "plt.pie(x=df['label'].value_counts().values,labels=['Normal Text','Possible threat text'],autopct=\"%.2f%%\")\n",
    "plt.show()"
   ]
  },
  {
   "cell_type": "markdown",
   "id": "803b4502-7a1e-4840-979e-9ffd5cb7fad2",
   "metadata": {},
   "source": [
    "## Tensorflow input pipeline\n",
    "The tf.data API enables you to build complex input pipelines from simple, reusable pieces.The tf.data API makes it possible to handle large amounts of data, read from different data formats, and perform complex transformations.\n",
    "\n",
    "For loading the dataframe into tensorflow dataset we will be using the following operations\n",
    "- Splitting the data into train,test and validation\n",
    "- Create numpy arrays\n",
    "- Convert numpy arrays to tensorflow tensors\n",
    "- Load the tensors into tf dataset using `Dataset.from_tensor_slices`."
   ]
  },
  {
   "cell_type": "code",
   "execution_count": 16,
   "id": "4c92a6ff-2e82-4ee2-8a35-801452d652b5",
   "metadata": {},
   "outputs": [],
   "source": [
    "# training size, validation size, shuffle size\n",
    "training_size = 0.8\n",
    "validation_size = 0.1\n",
    "shuffle_size = 10000"
   ]
  },
  {
   "cell_type": "code",
   "execution_count": 70,
   "id": "c44562f1-45eb-4c46-94ad-cafe756065a4",
   "metadata": {},
   "outputs": [],
   "source": [
    "train_dataset = tf.data.Dataset.from_tensor_slices((df['text'], df['label']))"
   ]
  },
  {
   "cell_type": "code",
   "execution_count": 71,
   "id": "ae4ee66b-9965-472b-93da-9114df2754c9",
   "metadata": {},
   "outputs": [
    {
     "name": "stdout",
     "output_type": "stream",
     "text": [
      "(TensorSpec(shape=(), dtype=tf.string, name=None), TensorSpec(shape=(), dtype=tf.int64, name=None))\n"
     ]
    }
   ],
   "source": [
    "print(train_dataset.element_spec)"
   ]
  },
  {
   "cell_type": "code",
   "execution_count": 76,
   "id": "861cbedf-6440-43e5-b08a-54537da3eda5",
   "metadata": {},
   "outputs": [],
   "source": [
    "class Data_cleaning_Processing():\n",
    "\n",
    "    def split_data(self, dataframe):\n",
    "        \"\"\"\n",
    "        This method will take the dataframe as input and will return tf.datasets\n",
    "        \"\"\"\n",
    "        train_data, test_val_data = train_test_split(df, train_size=0.8, shuffle=True, stratify=df['label'], random_state=1)\n",
    "        val_data, test_data = train_test_split(test_val_data, train_size=0.5, shuffle=True, stratify=test_val_data['label'], random_state=1)\n",
    "\n",
    "        # Converting dataframes to tf datasets\n",
    "        train_dataset = tf.data.Dataset.from_tensor_slices((train_data['text'], train_data['label']))\n",
    "        test_dataset = tf.data.Dataset.from_tensor_slices((test_data['text'], test_data['label']))\n",
    "        val_dataset = tf.data.Dataset.from_tensor_slices((val_data['text'], val_data['label']))\n",
    "\n",
    "        return (train_dataset, test_dataset, val_dataset)"
   ]
  },
  {
   "cell_type": "code",
   "execution_count": 77,
   "id": "9b2a2c40-5966-430c-b6a5-f388e6383efe",
   "metadata": {},
   "outputs": [],
   "source": [
    "dcp_obj = Data_cleaning_Processing()\n",
    "train_dataset,test_dastaset,validation_dataset = dcp_obj.split_data(df)"
   ]
  },
  {
   "cell_type": "code",
   "execution_count": 78,
   "id": "469e4280-aea9-4a9f-b2da-6f0063943871",
   "metadata": {},
   "outputs": [
    {
     "data": {
      "text/plain": [
       "<TensorSliceDataset element_spec=(TensorSpec(shape=(), dtype=tf.string, name=None), TensorSpec(shape=(), dtype=tf.int64, name=None))>"
      ]
     },
     "execution_count": 78,
     "metadata": {},
     "output_type": "execute_result"
    }
   ],
   "source": [
    "validation_dataset"
   ]
  },
  {
   "cell_type": "code",
   "execution_count": null,
   "id": "b82b920a-eecc-4887-a455-1ad386a7e404",
   "metadata": {},
   "outputs": [],
   "source": []
  },
  {
   "cell_type": "code",
   "execution_count": null,
   "id": "a9c24d1a-2c17-41d1-bf61-49775621cba5",
   "metadata": {},
   "outputs": [],
   "source": [
    "# Function for creating test, train and validation data batches\n",
    "def train_test_val_batches(dataset, training_size, validation_size, shuffle_size):\n",
    "\n",
    "    # Shuffling the dataset\n",
    "    dataset = dataset.shuffle(shuffle_size, seed=12)\n",
    "\n",
    "    # Creating batches for train, test, and validation\n",
    "    train_dataset = dataset.take(int(len(dataset) * training_size)) #54 batches will be there in training dataset\n",
    "    test_dataset = dataset.skip(int(len(dataset) * training_size)) # 14 in the test data\n",
    "    validation_dataset = test_dataset.skip(int(len(test_dataset) * validation_size)) # 13 Batches in validation\n",
    "\n",
    "    # Cache, Shuffle, and Prefetch the Datasets\n",
    "    train_dataset = train_dataset.cache().shuffle(1000).prefetch(buffer_size=tf.data.AUTOTUNE)\n",
    "    test_dataset = test_dataset.cache().shuffle(1000).prefetch(buffer_size=tf.data.AUTOTUNE)\n",
    "    validation_dataset = validation_dataset.cache().shuffle(1000).prefetch(buffer_size=tf.data.AUTOTUNE)\n",
    "\n",
    "    return train_dataset, test_dataset, validation_dataset\n",
    "\n",
    "\n",
    "# Calling the function\n",
    "train_ds, test_ds, val_ds = train_test_val_batches(dataset, training_size, validation_size, shuffle_size)"
   ]
  },
  {
   "cell_type": "code",
   "execution_count": null,
   "id": "0a38e152-457f-4d0a-97e6-e59e6577a81f",
   "metadata": {},
   "outputs": [],
   "source": [
    "# Create the TensorFlow Dataset\n",
    "dataset = tf.data.Dataset.from_dataframe(df)"
   ]
  },
  {
   "cell_type": "markdown",
   "id": "9cf85b07-cb84-4a58-9355-859a0797631f",
   "metadata": {},
   "source": [
    "### Data cleaning and processing using `TextVectorization` layer\n",
    "\n",
    "Since we know that the machines i.e. (ML or DL Algorithms) can't understand text, so we need to process the raw text data into some form `numbers` which can be used by these algorithms for doing computation and understanding the pattern within the data. Now the thing to keep in mind is that other than simply giving a numerical representation to the textual data using some frequency based or neural network based technique such as `Word2Vec` or `Glove` we also need to clean the data which includes : punctuation removal, stop word removal, lowercasing, emoji-encoding, lemmatization/stemming or conversion of n-grams etc.\n",
    "\n",
    "For doing all the above operations we will be using the `TextVectorization` layer provided by tensorflow. This layer can transforms a batch of strings (one example = one string) into either a list of token indices (one example = 1D tensor of integer token indices) or a dense representation (one example = 1D tensor of float values representing data about the example's tokens). \n"
   ]
  },
  {
   "cell_type": "code",
   "execution_count": null,
   "id": "8175ba54-a169-4027-9221-6d036ed21b44",
   "metadata": {},
   "outputs": [],
   "source": []
  }
 ],
 "metadata": {
  "kernelspec": {
   "display_name": "Text_DL",
   "language": "python",
   "name": "fjvenv"
  },
  "language_info": {
   "codemirror_mode": {
    "name": "ipython",
    "version": 3
   },
   "file_extension": ".py",
   "mimetype": "text/x-python",
   "name": "python",
   "nbconvert_exporter": "python",
   "pygments_lexer": "ipython3",
   "version": "3.10.0"
  }
 },
 "nbformat": 4,
 "nbformat_minor": 5
}
